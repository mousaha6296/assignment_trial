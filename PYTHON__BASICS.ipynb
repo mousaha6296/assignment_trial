{
  "nbformat": 4,
  "nbformat_minor": 0,
  "metadata": {
    "colab": {
      "provenance": []
    },
    "kernelspec": {
      "name": "python3",
      "display_name": "Python 3"
    },
    "language_info": {
      "name": "python"
    }
  },
  "cells": [
    {
      "cell_type": "code",
      "execution_count": null,
      "metadata": {
        "id": "I8ZKGXwGweE7"
      },
      "outputs": [],
      "source": []
    },
    {
      "cell_type": "markdown",
      "source": [
        "Q1. What is Python, and why is it so popular?\n",
        "ANS: Python is a high-level, interpreted programming language that is famous for its simplicity and readability. It was invented by Guido Van Rossum and was released in 1991. Python emphasizes ease of use, making it popular both for beginners and for seasoned programmers.\n",
        "\n",
        "WHY PYTHON IS POPULAR:\n",
        "1. Ease of learning: Beginners can quickly grasp Python due to its straightforward syntax.\n",
        "2. Applications in emerging fields: python is widely used in data science, artificial intelligence, machine learning, and web development.\n",
        "3. Automation: It simplifies scripting and automating repetitive tasks.\n",
        "4. Open source: Python is free and open source, with contributioin from developers worldwide.\n",
        "5. Integration: Python integrates easily with other languages like c++, java, c, and tools such as databases or cloud services.\n",
        "6. Community support: The active community is always developing tools, updates, and frameworks to make python more powerful.\n",
        "\n",
        "Q2. What is an interpreter in Python?\n",
        "ANS:An interpreter in Python is a program that reads your Python code line by line and executes it directly. It acts as a bridge between human readable code and the machine's ability to perform tasks.\n",
        "Think of it like having a live translator in a conversation—while speaking, the translator immediately conveys words to the other person without waiting for you to finish everything. Similarly, the Python interpreter doesn't need to process the entire program before running it; it works on each line as go. This makes testing and debugging your code easier, especially when you're experimenting or learning\n",
        "\n",
        "\n",
        "Q3. What are pre-defined keywords in Python?\n",
        "ANS: Pre-defined keywords in Python are special words which the language has already reserved for its own use. These words have specific meanings and purposes, so you cannot use them as names for your variables, functions, or anything else in code.\n",
        "\n",
        "Q4. Can keywords be used as variable names?\n",
        "ANS: No, we can't use keywords as variable names in Python. Keywords are special words that Python already uses for its instructions, so they're off limits for anything else. If we try, Python will throw an error because it expects those words to mean something specific.\n",
        "\n",
        "Q5. What is mutability in Python?\n",
        "ANS: Mutability in Python simply means whether or not we can change the contents of something after it's created. Some things in Python allow changes, while others don't. If something is mutable, it means we can modify it directly.\n",
        "\n",
        "Q6. Why are lists mutable, but tuples are immutable?\n",
        "ANSWER: Lists are mutable, meaning we can change them after we create them, while tuples are immutable, meaning we can't. It is the difference in how they are designed and what they're meant to be used for.\n",
        "A tuple is, in a way, a sealed box. We can see what is inside it, but we cannot change it. Python made tuples immutable because they are meant to hold data that should not change. For instance, if we store a person's date of birth or the coordinates of a location, we don't want those values to change accidentally.\n",
        "\n",
        "Q7. What is the difference between \"==\" and \"is\" operators in Python?\n",
        "ANS: The == and is operators in Python serve to do comparisons but do serve two entirely different purposes.\n",
        "- It checks whether two objects in Python have the same value.\n",
        "It compares content for this operator.\n",
        "- This checks whether two variables hold the variable that points to the same memory address.\n",
        "\n",
        "Q8. What are logical operators in Python?\n",
        "ANS: Logical operators in Python are used to combine conditional statements and return a result based on the conditions. The three main logical operators in Python are and,or, not.\n",
        "\n",
        "Q9. What is type casting in Python?\n",
        "ANS: Type casting is used to converted a number into a string and viceversa.\n",
        "\n",
        "\n",
        "Q10. What is the difference between implicit and explicit type casting?\n",
        "ANS: Implicit type casting in Python occurs automatically when the interpreter converts a smaller data type to a larger one without any explicit instruction. This type of casting happens when Python determines that the conversion is safe and does not require user intervention.\n",
        "This kind of explicit type conversion involves specifying the conversion of data type by the programmer in which int(), float(), etc functions are used. This process takes place when we explicitly need a particular type of conversion which Python cannot do.\n",
        "conclusion, implicit type conversion is automatic and done by the Python while explicit needs to be done by the input from the programmer.\n",
        "\n",
        "Q11.What is the use of conditional statements in Python?\n",
        "ANS: Sometimes we want to play PUBG on our phone if the day is sunday.\n",
        "Sometimes we order Ice-cream online if the day is sunny sometimes we go hiking if our parents allow.\n",
        "All these are decisions which depends on a condition being met.\n",
        "In python programming too, we must be able to execute instructions on a conditions act.This is what conditions are for!\n",
        "\n",
        "Q12.How does the elif statement work?\n",
        "ANS: Elif in python means [ else if ]. An if statement can be chained together with a lot of these elif statementx followed by an else statement.\n",
        "if(condition1)\n",
        "#code\n",
        "elif(condition2)\n",
        "#code\n",
        "This ladder will stop once a condition in an if or elif is met.\n",
        "elif (condition3)\n",
        "#code\n",
        "\n",
        "Q13.What is the difference between for and while loops?\n",
        "This main difference between for and while loops in Python is basically due to how they control the flow of execution.\n",
        "o For loop is used when we already know in advance how many times we want to go through a sequence, be it a list, a tuple, or a range. It automatically goes over each element in the sequence, stepping over them until it comes across the end.\n",
        "o\\tWhile loop is applied when we don't know in advance how many times the loop should be run. It continues to execute while the given condition is true, and stops when the condition turns out to be false.\n",
        "Conclusion, a for loop best suits when we know how many iterations are required. If we want to repeat something till a certain condition is satisfied then a while loop is apt for that.\n",
        "\n",
        "Q14. Explain how a while loop is a better choice than a for loop in a given situation.\n",
        "ANS: A while loop is a better choice when we are not sure how many times the loop needs to execute. It is very apt for situations where the number of iterations depends on some condition that may change at run time, such as waiting for user input or monitoring a process until some event occurs.\n",
        "\n"
      ],
      "metadata": {
        "id": "rq6I6yHbwfNJ"
      }
    },
    {
      "cell_type": "code",
      "source": [
        "# Write a Python program to print \"Hello, World"
      ],
      "metadata": {
        "id": "fkNZymBf_76Y"
      },
      "execution_count": null,
      "outputs": []
    },
    {
      "cell_type": "code",
      "source": [
        "print(\"Hello World\")"
      ],
      "metadata": {
        "colab": {
          "base_uri": "https://localhost:8080/"
        },
        "id": "5IAb5lpUDBFU",
        "outputId": "80ea686c-d1f6-4bfd-ee4a-e1e2cf4b0a12"
      },
      "execution_count": null,
      "outputs": [
        {
          "output_type": "stream",
          "name": "stdout",
          "text": [
            "Hello World\n"
          ]
        }
      ]
    },
    {
      "cell_type": "code",
      "source": [
        "#Write a Python program that displays your name and age.\n"
      ],
      "metadata": {
        "id": "ChJWnj6HDb14"
      },
      "execution_count": null,
      "outputs": []
    },
    {
      "cell_type": "code",
      "source": [
        "name = \"Mou Saha\"\n",
        "age = 24\n",
        "print(\"My name is Mou Saha\")\n",
        "print(\"My age is 24\")"
      ],
      "metadata": {
        "colab": {
          "base_uri": "https://localhost:8080/"
        },
        "id": "z3nVSQ1gDpAT",
        "outputId": "4410f782-0194-4343-facf-c406b02b8f39"
      },
      "execution_count": null,
      "outputs": [
        {
          "output_type": "stream",
          "name": "stdout",
          "text": [
            "My name is Mou Saha\n",
            "My age is 24\n"
          ]
        }
      ]
    },
    {
      "cell_type": "code",
      "source": [
        "#Write code to print all the pre-defined keywords in Python using the keyword library.\n"
      ],
      "metadata": {
        "id": "0Ytp9z9mEaFJ"
      },
      "execution_count": null,
      "outputs": []
    },
    {
      "cell_type": "code",
      "source": [
        "import keyword\n",
        "keywords = keyword.kwlist\n",
        "print(\"predefined keywords in python\")\n",
        "for kw in keywords:\n",
        "  print(kw)\n",
        "  print(\"\\nTotal number of keywords:\", len(keywords))"
      ],
      "metadata": {
        "colab": {
          "base_uri": "https://localhost:8080/"
        },
        "id": "LAhxD0ZcEk3j",
        "outputId": "f01c2a95-e70a-49f6-dbcc-d415d2bd8a7f"
      },
      "execution_count": 9,
      "outputs": [
        {
          "output_type": "stream",
          "name": "stdout",
          "text": [
            "predefined keywords in python\n",
            "False\n",
            "\n",
            "Total number of keywords: 35\n",
            "None\n",
            "\n",
            "Total number of keywords: 35\n",
            "True\n",
            "\n",
            "Total number of keywords: 35\n",
            "and\n",
            "\n",
            "Total number of keywords: 35\n",
            "as\n",
            "\n",
            "Total number of keywords: 35\n",
            "assert\n",
            "\n",
            "Total number of keywords: 35\n",
            "async\n",
            "\n",
            "Total number of keywords: 35\n",
            "await\n",
            "\n",
            "Total number of keywords: 35\n",
            "break\n",
            "\n",
            "Total number of keywords: 35\n",
            "class\n",
            "\n",
            "Total number of keywords: 35\n",
            "continue\n",
            "\n",
            "Total number of keywords: 35\n",
            "def\n",
            "\n",
            "Total number of keywords: 35\n",
            "del\n",
            "\n",
            "Total number of keywords: 35\n",
            "elif\n",
            "\n",
            "Total number of keywords: 35\n",
            "else\n",
            "\n",
            "Total number of keywords: 35\n",
            "except\n",
            "\n",
            "Total number of keywords: 35\n",
            "finally\n",
            "\n",
            "Total number of keywords: 35\n",
            "for\n",
            "\n",
            "Total number of keywords: 35\n",
            "from\n",
            "\n",
            "Total number of keywords: 35\n",
            "global\n",
            "\n",
            "Total number of keywords: 35\n",
            "if\n",
            "\n",
            "Total number of keywords: 35\n",
            "import\n",
            "\n",
            "Total number of keywords: 35\n",
            "in\n",
            "\n",
            "Total number of keywords: 35\n",
            "is\n",
            "\n",
            "Total number of keywords: 35\n",
            "lambda\n",
            "\n",
            "Total number of keywords: 35\n",
            "nonlocal\n",
            "\n",
            "Total number of keywords: 35\n",
            "not\n",
            "\n",
            "Total number of keywords: 35\n",
            "or\n",
            "\n",
            "Total number of keywords: 35\n",
            "pass\n",
            "\n",
            "Total number of keywords: 35\n",
            "raise\n",
            "\n",
            "Total number of keywords: 35\n",
            "return\n",
            "\n",
            "Total number of keywords: 35\n",
            "try\n",
            "\n",
            "Total number of keywords: 35\n",
            "while\n",
            "\n",
            "Total number of keywords: 35\n",
            "with\n",
            "\n",
            "Total number of keywords: 35\n",
            "yield\n",
            "\n",
            "Total number of keywords: 35\n"
          ]
        }
      ]
    },
    {
      "cell_type": "code",
      "source": [
        "#Write a program that checks if a given word is a Python keyword.\n"
      ],
      "metadata": {
        "id": "_XdCteM3I44m"
      },
      "execution_count": null,
      "outputs": []
    },
    {
      "cell_type": "code",
      "source": [
        "import keyword\n",
        "\n",
        "word = input(\"Enter a word to check if it's a Python keyword: \")\n",
        "\n",
        "if keyword.iskeyword(word):\n",
        "    print(f\"'{word}' is a Python keyword.\")\n",
        "else:\n",
        "    print(f\"'{word}' is not a Python keyword.\")\n"
      ],
      "metadata": {
        "colab": {
          "base_uri": "https://localhost:8080/"
        },
        "id": "xb9sK--yJBVV",
        "outputId": "0d581606-92fd-4e19-e163-4e212347e4b9"
      },
      "execution_count": 11,
      "outputs": [
        {
          "output_type": "stream",
          "name": "stdout",
          "text": [
            "Enter a word to check if it's a Python keyword: True\n",
            "'True' is a Python keyword.\n"
          ]
        }
      ]
    },
    {
      "cell_type": "code",
      "source": [
        "#Create a list and tuple in Python, and demonstrate how attempting to change an element works differently\n",
        "for each."
      ],
      "metadata": {
        "id": "uUSdDniwKZqc"
      },
      "execution_count": null,
      "outputs": []
    },
    {
      "cell_type": "code",
      "source": [
        "my_list = [1, 2, 3]\n",
        "\n",
        "my_tuple = (1, 2, 3)\n",
        "\n",
        "print(\"Original list:\", my_list)\n",
        "my_list[1] = 99\n",
        "print(\"Modified list:\", my_list)\n",
        "\n",
        "print(\"\\nOriginal tuple:\", my_tuple)\n",
        "try:\n",
        "    my_tuple[1] = 99  # This will raise an error\n",
        "except TypeError as e:\n",
        "    print(\"Error when trying to modify tuple:\", e)"
      ],
      "metadata": {
        "colab": {
          "base_uri": "https://localhost:8080/"
        },
        "id": "7Mu7XIWnK18i",
        "outputId": "8a868bde-d56b-482b-d9c7-3a09ea202c3b"
      },
      "execution_count": 14,
      "outputs": [
        {
          "output_type": "stream",
          "name": "stdout",
          "text": [
            "Original list: [1, 2, 3]\n",
            "Modified list: [1, 99, 3]\n",
            "\n",
            "Original tuple: (1, 2, 3)\n",
            "Error when trying to modify tuple: 'tuple' object does not support item assignment\n"
          ]
        }
      ]
    },
    {
      "cell_type": "code",
      "source": [
        "#Write a function to demonstrate the behavior of mutable and immutable arguments."
      ],
      "metadata": {
        "id": "xbfvDM4KLDOf"
      },
      "execution_count": null,
      "outputs": []
    },
    {
      "cell_type": "code",
      "source": [
        "def modify_arguments(mutable_arg, immutable_arg):\n",
        "\n",
        "    mutable_arg.append(99)\n",
        "    print(\"Inside function (after modifying mutable_arg):\", mutable_arg)\n",
        "\n",
        "\n",
        "    immutable_arg += 1\n",
        "    print(\"Inside function (after modifying immutable_arg):\", immutable_arg)\n",
        "\n",
        "\n",
        "\n",
        "mutable_list = [1, 2, 3]\n",
        "\n",
        "immutable_int = 10\n",
        "\n",
        "print(\"Before function call:\")\n",
        "print(\"mutable_list:\", mutable_list)\n",
        "print(\"immutable_int:\", immutable_int)\n",
        "\n",
        "modify_arguments(mutable_list, immutable_int)\n",
        "\n",
        "print(\"\\nAfter function call:\")\n",
        "print(\"mutable_list:\", mutable_list)\n",
        "print(\"immutable_int:\", immutable_int)"
      ],
      "metadata": {
        "colab": {
          "base_uri": "https://localhost:8080/"
        },
        "id": "UblKxuC0LOYu",
        "outputId": "f5ee3790-a4a8-480e-b9c2-c9bbb61cc504"
      },
      "execution_count": 15,
      "outputs": [
        {
          "output_type": "stream",
          "name": "stdout",
          "text": [
            "Before function call:\n",
            "mutable_list: [1, 2, 3]\n",
            "immutable_int: 10\n",
            "Inside function (after modifying mutable_arg): [1, 2, 3, 99]\n",
            "Inside function (after modifying immutable_arg): 11\n",
            "\n",
            "After function call:\n",
            "mutable_list: [1, 2, 3, 99]\n",
            "immutable_int: 10\n"
          ]
        }
      ]
    },
    {
      "cell_type": "code",
      "source": [
        "# Write a program to demonstrate the use of logical operators\n"
      ],
      "metadata": {
        "id": "u17w1z3ULYfB"
      },
      "execution_count": null,
      "outputs": []
    },
    {
      "cell_type": "code",
      "source": [
        "a = int(input(\"Enter the first number (a): \"))\n",
        "b = int(input(\"Enter the second number (b): \"))\n",
        "c = int(input(\"Enter the third number (c): \"))\n",
        "\n",
        "print(\"\\nLogical AND:\")\n",
        "if a > 0 and b > 0:\n",
        "    print(f\"Both a ({a}) and b ({b}) are positive.\")\n",
        "else:\n",
        "    print(f\"At least one of a ({a}) or b ({b}) is not positive.\")\n",
        "\n",
        "print(\"\\nLogical OR:\")\n",
        "if a > 0 or c > 0:\n",
        "    print(f\"At least one of a ({a}) or c ({c}) is positive.\")\n",
        "else:\n",
        "    print(f\"Neither a ({a}) nor c ({c}) is positive.\")\n",
        "\n",
        "print(\"\\nLogical NOT:\")\n",
        "if not (b > 0):\n",
        "    print(f\"b ({b}) is not positive.\")\n",
        "else:\n",
        "    print(f\"b ({b}) is positive.\")"
      ],
      "metadata": {
        "colab": {
          "base_uri": "https://localhost:8080/"
        },
        "id": "5PaupBJXLkVM",
        "outputId": "00820c6d-c0e7-4c31-bd7f-6eb594cf5283"
      },
      "execution_count": 16,
      "outputs": [
        {
          "output_type": "stream",
          "name": "stdout",
          "text": [
            "Enter the first number (a): 25\n",
            "Enter the second number (b): 30\n",
            "Enter the third number (c): 40\n",
            "\n",
            "Logical AND:\n",
            "Both a (25) and b (30) are positive.\n",
            "\n",
            "Logical OR:\n",
            "At least one of a (25) or c (40) is positive.\n",
            "\n",
            "Logical NOT:\n",
            "b (30) is positive.\n"
          ]
        }
      ]
    },
    {
      "cell_type": "code",
      "source": [
        "#Write a Python program to convert user input from string to integer, float, and boolean types"
      ],
      "metadata": {
        "id": "F8S4OFYDMb41"
      },
      "execution_count": null,
      "outputs": []
    },
    {
      "cell_type": "code",
      "source": [
        "user_input = input(\"Enter a value: \")\n",
        "\n",
        "try:\n",
        "    int_value = int(user_input)\n",
        "    print(f\"Converted to Integer: {int_value}\")\n",
        "except ValueError:\n",
        "    print(\"Conversion to Integer failed. Input is not a valid integer.\")\n",
        "\n",
        "try:\n",
        "    float_value = float(user_input)\n",
        "    print(f\"Converted to Float: {float_value}\")\n",
        "except ValueError:\n",
        "    print(\"Conversion to Float failed. Input is not a valid float.\")\n",
        "\n",
        "bool_value = bool(user_input) and user_input != \"0\"\n",
        "print(f\"Converted to Boolean: {bool_value}\")"
      ],
      "metadata": {
        "colab": {
          "base_uri": "https://localhost:8080/"
        },
        "id": "LDWg9Aj7MioW",
        "outputId": "adc196c5-0354-478a-d2da-02f969fcff6a"
      },
      "execution_count": 17,
      "outputs": [
        {
          "output_type": "stream",
          "name": "stdout",
          "text": [
            "Enter a value: 70\n",
            "Converted to Integer: 70\n",
            "Converted to Float: 70.0\n",
            "Converted to Boolean: True\n"
          ]
        }
      ]
    },
    {
      "cell_type": "code",
      "source": [
        "#Write code to demonstrate type casting with list elements"
      ],
      "metadata": {
        "id": "QvTzqmymMzKd"
      },
      "execution_count": null,
      "outputs": []
    },
    {
      "cell_type": "code",
      "source": [
        "original_list = [\"1\", \"2.5\", \"True\", \"42\", \"3.14\", \"hello\"]\n",
        "\n",
        "print(\"Original List:\", original_list)\n",
        "\n",
        "int_list = []\n",
        "for item in original_list:\n",
        "    try:\n",
        "        int_list.append(int(float(item)))\n",
        "    except ValueError:\n",
        "        int_list.append(None)\n",
        "print(\"Converted to Integers (where possible):\", int_list)\n",
        "\n",
        "float_list = []\n",
        "for item in original_list:\n",
        "    try:\n",
        "        float_list.append(float(item))\n",
        "    except ValueError:\n",
        "        float_list.append(None)\n",
        "print(\"Converted to Floats (where possible):\", float_list)\n",
        "\n",
        "bool_list = [bool(item) for item in original_list]\n",
        "print(\"Converted to Booleans:\", bool_list)\n",
        "\n",
        "string_list = [str(item) for item in original_list]\n",
        "print(\"Converted to Strings:\", string_list)"
      ],
      "metadata": {
        "colab": {
          "base_uri": "https://localhost:8080/"
        },
        "id": "x1O2rZ_JM7mn",
        "outputId": "83638017-3821-4524-b2ef-3fa8dec6441e"
      },
      "execution_count": 18,
      "outputs": [
        {
          "output_type": "stream",
          "name": "stdout",
          "text": [
            "Original List: ['1', '2.5', 'True', '42', '3.14', 'hello']\n",
            "Converted to Integers (where possible): [1, 2, None, 42, 3, None]\n",
            "Converted to Floats (where possible): [1.0, 2.5, None, 42.0, 3.14, None]\n",
            "Converted to Booleans: [True, True, True, True, True, True]\n",
            "Converted to Strings: ['1', '2.5', 'True', '42', '3.14', 'hello']\n"
          ]
        }
      ]
    },
    {
      "cell_type": "code",
      "source": [
        "#Write a program that checks if a number is positive, negative, or zero"
      ],
      "metadata": {
        "id": "_7HnlITzNknb"
      },
      "execution_count": null,
      "outputs": []
    },
    {
      "cell_type": "code",
      "source": [
        "number = float(input(\"Enter a number: \"))\n",
        "\n",
        "if number > 0:\n",
        "    print(\"The number is positive.\")\n",
        "elif number < 0:\n",
        "    print(\"The number is negative.\")\n",
        "else:\n",
        "    print(\"The number is zero.\")\n",
        ""
      ],
      "metadata": {
        "colab": {
          "base_uri": "https://localhost:8080/"
        },
        "id": "wGJ_5OM_NmQy",
        "outputId": "acf9078c-326a-4647-eb1d-f48a42497f84"
      },
      "execution_count": 19,
      "outputs": [
        {
          "output_type": "stream",
          "name": "stdout",
          "text": [
            "Enter a number: 2\n",
            "The number is positive.\n"
          ]
        }
      ]
    },
    {
      "cell_type": "code",
      "source": [
        "# Write a for loop to print numbers from 1 to 10\n"
      ],
      "metadata": {
        "id": "FDoN5_5vOSU2"
      },
      "execution_count": null,
      "outputs": []
    },
    {
      "cell_type": "code",
      "source": [
        "for number in range(1, 101):\n",
        "    print(number)"
      ],
      "metadata": {
        "colab": {
          "base_uri": "https://localhost:8080/"
        },
        "id": "epbFuj3NObvi",
        "outputId": "35841da5-ab4a-4515-fdf8-a4d926599ed6"
      },
      "execution_count": 20,
      "outputs": [
        {
          "output_type": "stream",
          "name": "stdout",
          "text": [
            "1\n",
            "2\n",
            "3\n",
            "4\n",
            "5\n",
            "6\n",
            "7\n",
            "8\n",
            "9\n",
            "10\n",
            "11\n",
            "12\n",
            "13\n",
            "14\n",
            "15\n",
            "16\n",
            "17\n",
            "18\n",
            "19\n",
            "20\n",
            "21\n",
            "22\n",
            "23\n",
            "24\n",
            "25\n",
            "26\n",
            "27\n",
            "28\n",
            "29\n",
            "30\n",
            "31\n",
            "32\n",
            "33\n",
            "34\n",
            "35\n",
            "36\n",
            "37\n",
            "38\n",
            "39\n",
            "40\n",
            "41\n",
            "42\n",
            "43\n",
            "44\n",
            "45\n",
            "46\n",
            "47\n",
            "48\n",
            "49\n",
            "50\n",
            "51\n",
            "52\n",
            "53\n",
            "54\n",
            "55\n",
            "56\n",
            "57\n",
            "58\n",
            "59\n",
            "60\n",
            "61\n",
            "62\n",
            "63\n",
            "64\n",
            "65\n",
            "66\n",
            "67\n",
            "68\n",
            "69\n",
            "70\n",
            "71\n",
            "72\n",
            "73\n",
            "74\n",
            "75\n",
            "76\n",
            "77\n",
            "78\n",
            "79\n",
            "80\n",
            "81\n",
            "82\n",
            "83\n",
            "84\n",
            "85\n",
            "86\n",
            "87\n",
            "88\n",
            "89\n",
            "90\n",
            "91\n",
            "92\n",
            "93\n",
            "94\n",
            "95\n",
            "96\n",
            "97\n",
            "98\n",
            "99\n",
            "100\n"
          ]
        }
      ]
    },
    {
      "cell_type": "code",
      "source": [
        "# Write a Python program to find the sum of all even numbers between 1 and 50"
      ],
      "metadata": {
        "id": "qNd6owj2Oehj"
      },
      "execution_count": null,
      "outputs": []
    },
    {
      "cell_type": "code",
      "source": [
        "sum_of_even_numbers = 0\n",
        "\n",
        "for number in range(1, 51):\n",
        "\n",
        "    if number % 2 == 0:\n",
        "        sum_of_even_numbers += number\n",
        "\n",
        "print(\"The sum of all even numbers between 1 and 50 is:\", sum_of_even_numbers)"
      ],
      "metadata": {
        "colab": {
          "base_uri": "https://localhost:8080/"
        },
        "id": "9bbbXGQVOuJe",
        "outputId": "ee2b759a-9333-4d5f-dcb5-024aca9ee026"
      },
      "execution_count": 21,
      "outputs": [
        {
          "output_type": "stream",
          "name": "stdout",
          "text": [
            "The sum of all even numbers between 1 and 50 is: 650\n"
          ]
        }
      ]
    },
    {
      "cell_type": "code",
      "source": [
        "#Write a program to reverse a string using a while loop"
      ],
      "metadata": {
        "id": "PoNKhrCAO0WE"
      },
      "execution_count": null,
      "outputs": []
    },
    {
      "cell_type": "code",
      "source": [
        "input_string = input(\"Enter a string: \")\n",
        "\n",
        "reversed_string = \"\"\n",
        "\n",
        "index = len(input_string) - 1\n",
        "\n",
        "while index >= 0:\n",
        "    reversed_string += input_string[index]\n",
        "    index -= 1\n",
        "\n",
        "print(\"Reversed string:\", reversed_string)"
      ],
      "metadata": {
        "colab": {
          "base_uri": "https://localhost:8080/"
        },
        "id": "k3pQScL4O6Ll",
        "outputId": "676e89ca-b244-49bd-b5c7-c910a7e3a7e1"
      },
      "execution_count": 22,
      "outputs": [
        {
          "output_type": "stream",
          "name": "stdout",
          "text": [
            "Enter a string:  Be youself\n",
            "Reversed string: flesuoy eB \n"
          ]
        }
      ]
    },
    {
      "cell_type": "code",
      "source": [
        "# Write a Python program to calculate the factorial of a number provided by the user using a while loop"
      ],
      "metadata": {
        "id": "BBniSSE1PJsX"
      },
      "execution_count": null,
      "outputs": []
    },
    {
      "cell_type": "code",
      "source": [
        "num = int(input(\"Enter a number: \"))\n",
        "\n",
        "factorial = 1\n",
        "i = 1\n",
        "\n",
        "while i <= num:\n",
        "    factorial *= i\n",
        "    i += 1\n",
        "\n",
        "print(f\"The factorial of {num} is: {factorial}\")"
      ],
      "metadata": {
        "colab": {
          "base_uri": "https://localhost:8080/"
        },
        "id": "7h_XZ6yoPWZx",
        "outputId": "6e4602d8-5b7f-4194-b114-03e2d2d72f47"
      },
      "execution_count": 23,
      "outputs": [
        {
          "output_type": "stream",
          "name": "stdout",
          "text": [
            "Enter a number: 6\n",
            "The factorial of 6 is: 720\n"
          ]
        }
      ]
    }
  ]
}