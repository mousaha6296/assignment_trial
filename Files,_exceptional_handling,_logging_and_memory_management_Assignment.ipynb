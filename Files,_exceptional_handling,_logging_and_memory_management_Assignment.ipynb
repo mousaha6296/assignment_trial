{
  "nbformat": 4,
  "nbformat_minor": 0,
  "metadata": {
    "colab": {
      "provenance": [],
      "collapsed_sections": [
        "5D04jqrZBrV7",
        "So49c3y261jL"
      ]
    },
    "kernelspec": {
      "name": "python3",
      "display_name": "Python 3"
    },
    "language_info": {
      "name": "python"
    }
  },
  "cells": [
    {
      "cell_type": "markdown",
      "source": [
        "**Assignment: Files, exceptional handling, logging and memory management Questions and its answer.**"
      ],
      "metadata": {
        "id": "cl_9-Gtk6hrO"
      }
    },
    {
      "cell_type": "markdown",
      "source": [
        "## Theory"
      ],
      "metadata": {
        "id": "5D04jqrZBrV7"
      }
    },
    {
      "cell_type": "markdown",
      "source": [
        "1.What is the difference between interpreted and compiled languages?\n",
        "ANS:\n",
        "Interpreted languages (e.g., Python): This executes the code line by line and does not have a separate compilation step.\n",
        " Compiled languages (e.g., C): The compiler converts the code into machine code before execution.\n",
        "\n",
        "2. What is exception handling in Python?\n",
        "ANS:\n",
        "Exception handling is a way of dealing with errors in your code. It helps your program run smoothly even if something unexpected happens, like dividing by zero or trying to open a missing file.\n",
        "\n",
        "3. What is the purpose of the finally block in exception handling?\n",
        "ANS:\n",
        "The finally block is executed no matter what happens—whether or not an exception occurs. It's excellent for cleaning up, such as closing files or releasing resources.\n",
        "\n",
        "4. What is logging in Python?\n",
        "ANS:\n",
        "Logging is the act of recording messages about your program's events, such as errors, warnings, or general information, to a file or console for debugging and monitoring.\n",
        "\n",
        "5. What is the significance of the del method in Python?\n",
        "ANS:\n",
        "This method is called when the object is going to be deleted. Useful for cleanup tasks, such as closing connections or releasing resources.\n",
        "\n",
        "6. What is the difference between import and from ... import in Python?\n",
        "ANS:\n",
        "from. import module: Imports the whole module, which imports the whole module (for example import math).\n",
        "from module import name: Imports special parts of a module (for example, from math import sqrt).\n",
        "\n",
        "7. How can you handle multiple exceptions in Python?\n",
        "ANS:\n",
        "You can handle multiple exceptions using multiple except blocks or by grouping them in a tuple:\n",
        "except (TypeError, ValueError) as e:\n",
        "    print(e)\n",
        "\n",
        "8. What is the purpose of the with statement when handling files in Python?\n",
        "ANS:\n",
        "The with statement automatically closes a file after you’re done with it, even if an error occurs.\n",
        "Example:\n",
        "with open(\"file.txt\") as file:\n",
        "    data = file.read()\n",
        "\n",
        "9. What is the difference between multithreading and multiprocessing?\n",
        "ANS:\n",
        "Multithreading: Runs multiple threads in the same process. Useful for I/O tasks.\n",
        "Multiprocessing: Runs multiple processes. Useful for CPU-intensive tasks.\n",
        "\n",
        "10. What are the advantages of using logging in a program?\n",
        "ANS:\n",
        "Tracks program execution.\n",
        "Records errors and warnings.\n",
        "Helps in debugging and maintaining the code.\n",
        "\n",
        "11. What is memory management in Python?\n",
        "ANS:\n",
        "Memory management is how Python allocates and frees memory for your program. Python's garbage collector handles this automatically.\n",
        "\n",
        "12. What are the basic steps involved in exception handling in Python?\n",
        "ANS:\n",
        "Use a try block for risky code.\n",
        "Use an except block to catch exceptions.\n",
        "Optionally, use else to execute if no exception occurs.\n",
        "Use finally to clean up resources.\n",
        "\n",
        "13. Why is memory management important in Python?\n",
        "ANS:\n",
        "It will make sure that your program runs efficiently without consuming too much memory or crashing.\n",
        "\n",
        "14. What is the role of try and except in exception handling?\n",
        "ANS:\n",
        "try: Contains the code that might throw an exception.\n",
        "except: Catches and handles the exception.\n",
        "\n",
        "15. How does Python's garbage collection system work?\n",
        "ANS:\n",
        "Python's garbage collector automatically deletes unused objects to free up memory. It uses a technique called reference counting.\n",
        "\n",
        "16. What is the purpose of the else block in exception handling?\n",
        "ANS:\n",
        "The else block runs only if no exception occurs in the try block.\n",
        "\n",
        "17. What are the common logging levels in Python?\n",
        "ANS:\n",
        "DEBUG\n",
        "INFO\n",
        "WARNING\n",
        "ERROR\n",
        "CRITICAL\n",
        "\n",
        "18. What is the difference between os.fork() and multiprocessing in Python?\n",
        "ANS:\n",
        "os.fork(): Creates a child process in Unix-based systems only.\n",
        "multiprocessing: A Python library for creating cross-platform processes.\n",
        "\n",
        "19. What is the importance of closing a file in Python?\n",
        "ANS:\n",
        "Closing a file ensures that all changes are saved and system resources are released.\n",
        "\n",
        "20. What is the difference between file.read() and file.readline() in Python?\n",
        "ANS:\n",
        "file.read(): Reads the entire file as a single string.\n",
        "file.readline(): Reads one line at a time.\n",
        "\n",
        "21. What is the logging module in Python used for?\n",
        "ANS:\n",
        "The logging module is used to track events in a program, such as errors or warnings, and save them to a file or display them on the console.\n",
        "\n",
        "22. What is the os module in Python used for in file handling?\n",
        "ANS:\n",
        "The os module provides functions to interact with the operating system, like managing files, directories, and paths.\n",
        "\n",
        "23. What are the challenges associated with memory management in Python?\n",
        "ANS:\n",
        "Memory leaks when objects are not released.\n",
        "High memory usage in large applications.\n",
        "Over-reliance on garbage collection.\n",
        "\n",
        "24. How do you raise an exception manually in Python?\n",
        "ANS:\n",
        "Use the raise keyword.\n",
        "raise ValueError(\"This is a custom exception\")\n",
        "\n",
        "25. Why is it important to use multithreading in certain applications?\n",
        "ANS:\n",
        "Multithreading improves performance in tasks like downloading files or handling multiple user requests because threads can run simultaneously."
      ],
      "metadata": {
        "id": "RD7E214FBY3l"
      }
    },
    {
      "cell_type": "markdown",
      "source": [
        "## PRACTICAL QUESTIONS"
      ],
      "metadata": {
        "id": "So49c3y261jL"
      }
    },
    {
      "cell_type": "markdown",
      "source": [
        "1. How can you open a file for writing in Python and write a string to it?\n"
      ],
      "metadata": {
        "id": "yZ7mgRrP8LK5"
      }
    },
    {
      "cell_type": "code",
      "source": [
        "with open(\"output.txt\", \"w\") as file:\n",
        "    file.write(\"This is a test string.\")\n"
      ],
      "metadata": {
        "id": "o6Mx-bW_6ema"
      },
      "execution_count": null,
      "outputs": []
    },
    {
      "cell_type": "markdown",
      "source": [
        "2. Write a Python program to read the contents of a file and print each line."
      ],
      "metadata": {
        "id": "wpOFNGst9zvW"
      }
    },
    {
      "cell_type": "code",
      "source": [
        "with open(\"input.txt\", \"r\") as file:\n",
        "    for line in file:\n",
        "        print(line.strip())\n"
      ],
      "metadata": {
        "id": "2p8NIXoo98zn"
      },
      "execution_count": null,
      "outputs": []
    },
    {
      "cell_type": "markdown",
      "source": [
        "3. How would you handle a case where the file doesn't exist while trying to open it for reading?\n"
      ],
      "metadata": {
        "id": "ERY7LT7f9_gv"
      }
    },
    {
      "cell_type": "code",
      "source": [
        "try:\n",
        "    with open(\"nonexistent_file.txt\", \"r\") as file:\n",
        "        content = file.read()\n",
        "except FileNotFoundError:\n",
        "    print(\"The file does not exist.\")\n"
      ],
      "metadata": {
        "id": "a6vz9hps-EiD"
      },
      "execution_count": null,
      "outputs": []
    },
    {
      "cell_type": "markdown",
      "source": [
        "4. Write a Python script that reads from one file and writes its content to another file.\n"
      ],
      "metadata": {
        "id": "23q1XdMx-Jpn"
      }
    },
    {
      "cell_type": "code",
      "source": [
        "with open(\"source.txt\", \"r\") as src, open(\"destination.txt\", \"w\") as dest:\n",
        "    dest.write(src.read())\n"
      ],
      "metadata": {
        "id": "wnArmOih-Nj4"
      },
      "execution_count": null,
      "outputs": []
    },
    {
      "cell_type": "markdown",
      "source": [
        "5. How would you catch and handle division by zero error in Python?\n"
      ],
      "metadata": {
        "id": "8Ty9EmCB-Rop"
      }
    },
    {
      "cell_type": "code",
      "source": [
        "try:\n",
        "    result = 10 / 0\n",
        "except ZeroDivisionError:\n",
        "    print(\"Cannot divide by zero.\")\n"
      ],
      "metadata": {
        "id": "p622JXjq-V8o"
      },
      "execution_count": null,
      "outputs": []
    },
    {
      "cell_type": "markdown",
      "source": [
        "6. Write a Python program that logs an error message to a log file when a division by zero exception occurs.\n"
      ],
      "metadata": {
        "id": "jWnWNbMB-YQA"
      }
    },
    {
      "cell_type": "code",
      "source": [
        "import logging\n",
        "\n",
        "logging.basicConfig(filename=\"error.log\", level=logging.ERROR)\n",
        "try:\n",
        "    result = 10 / 0\n",
        "except ZeroDivisionError as e:\n",
        "    logging.error(\"Error occurred: %s\", e)\n"
      ],
      "metadata": {
        "id": "M6WuQ0WU-cqI"
      },
      "execution_count": null,
      "outputs": []
    },
    {
      "cell_type": "markdown",
      "source": [
        "7. How do you log information at different levels (INFO, ERROR, WARNING) in Python using the logging module?\n"
      ],
      "metadata": {
        "id": "a7YDi2-J-fkS"
      }
    },
    {
      "cell_type": "code",
      "source": [
        "import logging\n",
        "\n",
        "logging.basicConfig(level=logging.INFO)\n",
        "logging.info(\"This is an INFO message\")\n",
        "logging.warning(\"This is a WARNING message\")\n",
        "logging.error(\"This is an ERROR message\")\n"
      ],
      "metadata": {
        "id": "wTiSJLlM-jV4"
      },
      "execution_count": null,
      "outputs": []
    },
    {
      "cell_type": "markdown",
      "source": [
        "8. Write a program to handle a file opening error using exception handling.\n"
      ],
      "metadata": {
        "id": "XGaY4Ngg-l4H"
      }
    },
    {
      "cell_type": "code",
      "source": [
        "try:\n",
        "    with open(\"nonexistent.txt\", \"r\") as file:\n",
        "        content = file.read()\n",
        "except FileNotFoundError:\n",
        "    print(\"File not found.\")\n"
      ],
      "metadata": {
        "id": "mA8DcNq4-ono"
      },
      "execution_count": null,
      "outputs": []
    },
    {
      "cell_type": "markdown",
      "source": [
        "9. How can you read a file line by line and store its content in a list in Python?\n"
      ],
      "metadata": {
        "id": "g3C3e1Ix-rAD"
      }
    },
    {
      "cell_type": "code",
      "source": [
        "with open(\"input.txt\", \"r\") as file:\n",
        "    lines = [line.strip() for line in file]\n",
        "print(lines)\n"
      ],
      "metadata": {
        "id": "tXeGYdJN-v5X"
      },
      "execution_count": null,
      "outputs": []
    },
    {
      "cell_type": "markdown",
      "source": [
        "10. How can you append data to an existing file in Python?\n"
      ],
      "metadata": {
        "id": "WYW95NDg-yDi"
      }
    },
    {
      "cell_type": "code",
      "source": [
        "with open(\"output.txt\", \"a\") as file:\n",
        "    file.write(\"This is additional data.\\n\")\n"
      ],
      "metadata": {
        "id": "P41DtdNi-2uo"
      },
      "execution_count": null,
      "outputs": []
    },
    {
      "cell_type": "markdown",
      "source": [
        "11. Write a Python program that uses a try-except block to handle an error when attempting to access a dictionary key that doesn't exist.\n"
      ],
      "metadata": {
        "id": "3w3cPMnq-5Rw"
      }
    },
    {
      "cell_type": "code",
      "source": [
        "my_dict = {\"name\": \"Alice\"}\n",
        "try:\n",
        "    print(my_dict[\"age\"])\n",
        "except KeyError:\n",
        "    print(\"Key does not exist.\")\n"
      ],
      "metadata": {
        "id": "HCYkyKca_CyX"
      },
      "execution_count": null,
      "outputs": []
    },
    {
      "cell_type": "markdown",
      "source": [
        "12. Write a program that demonstrates using multiple except blocks to handle different types of exceptions.\n"
      ],
      "metadata": {
        "id": "fvTehuq6_FNT"
      }
    },
    {
      "cell_type": "code",
      "source": [
        "try:\n",
        "    result = 10 / 0\n",
        "except ZeroDivisionError:\n",
        "    print(\"Cannot divide by zero.\")\n",
        "except ValueError:\n",
        "    print(\"Invalid value.\")\n"
      ],
      "metadata": {
        "id": "qo5vYG87_I9w"
      },
      "execution_count": null,
      "outputs": []
    },
    {
      "cell_type": "markdown",
      "source": [
        "13. How would you check if a file exists before attempting to read it in Python?\n"
      ],
      "metadata": {
        "id": "sdiKGIUt_NTW"
      }
    },
    {
      "cell_type": "code",
      "source": [
        "import os\n",
        "\n",
        "if os.path.exists(\"input.txt\"):\n",
        "    with open(\"input.txt\", \"r\") as file:\n",
        "        print(file.read())\n",
        "else:\n",
        "    print(\"File does not exist.\")\n"
      ],
      "metadata": {
        "id": "0w9o0oaH_QZA"
      },
      "execution_count": null,
      "outputs": []
    },
    {
      "cell_type": "markdown",
      "source": [
        "14. Write a program that uses the logging module to log both informational and error messages.\n"
      ],
      "metadata": {
        "id": "C_sx1aCm_SW3"
      }
    },
    {
      "cell_type": "code",
      "source": [
        "import logging\n",
        "\n",
        "logging.basicConfig(filename=\"app.log\", level=logging.DEBUG)\n",
        "logging.info(\"This is an informational message.\")\n",
        "logging.error(\"This is an error message.\")\n"
      ],
      "metadata": {
        "id": "FYuvKGkS_XXQ"
      },
      "execution_count": null,
      "outputs": []
    },
    {
      "cell_type": "markdown",
      "source": [
        "15. Write a Python program that prints the content of a file and handles the case when the file is empty.\n"
      ],
      "metadata": {
        "id": "VwldhH2Y_a4x"
      }
    },
    {
      "cell_type": "code",
      "source": [
        "with open(\"input.txt\", \"r\") as file:\n",
        "    content = file.read()\n",
        "    if not content:\n",
        "        print(\"The file is empty.\")\n",
        "    else:\n",
        "        print(content)\n"
      ],
      "metadata": {
        "id": "bZwRLIOf_eEw"
      },
      "execution_count": null,
      "outputs": []
    },
    {
      "cell_type": "markdown",
      "source": [
        "16. Demonstrate how to use memory profiling to check the memory usage of a small program?\n"
      ],
      "metadata": {
        "id": "RAUbKlyQ_hAi"
      }
    },
    {
      "cell_type": "code",
      "source": [
        "from memory_profiler import profile\n",
        "\n",
        "@profile\n",
        "def example_function():\n",
        "    nums = [i for i in range(100000)]\n",
        "    return nums\n",
        "\n",
        "example_function()\n"
      ],
      "metadata": {
        "id": "hl13O0TC_nBA"
      },
      "execution_count": null,
      "outputs": []
    },
    {
      "cell_type": "markdown",
      "source": [
        "17. Write a Python program to create and write a list of numbers to a file, one number per line."
      ],
      "metadata": {
        "id": "k8J8M_hl_rq0"
      }
    },
    {
      "cell_type": "code",
      "source": [
        "numbers = [1, 2, 3, 4, 5]\n",
        "with open(\"numbers.txt\", \"w\") as file:\n",
        "    for number in numbers:\n",
        "        file.write(f\"{number}\\n\")\n"
      ],
      "metadata": {
        "id": "mLBc2fBv_yvg"
      },
      "execution_count": null,
      "outputs": []
    },
    {
      "cell_type": "markdown",
      "source": [
        "18. How would you implement a basic logging setup that logs to a file with rotation after 1MB?"
      ],
      "metadata": {
        "id": "00NRwHB1_01H"
      }
    },
    {
      "cell_type": "code",
      "source": [
        "from logging.handlers import RotatingFileHandler\n",
        "import logging\n",
        "\n",
        "handler = RotatingFileHandler(\"app.log\", maxBytes=1024 * 1024, backupCount=3)\n",
        "logging.basicConfig(handlers=[handler], level=logging.INFO)\n",
        "logging.info(\"Logging with rotation\")\n"
      ],
      "metadata": {
        "id": "XsDu7akJ_5rU"
      },
      "execution_count": null,
      "outputs": []
    },
    {
      "cell_type": "markdown",
      "source": [
        "19. Write a program that handles both IndexError and KeyError using a try-except block."
      ],
      "metadata": {
        "id": "G8ZtuCSR_8zd"
      }
    },
    {
      "cell_type": "code",
      "source": [
        "try:\n",
        "    lst = [1, 2, 3]\n",
        "    print(lst[5])\n",
        "    my_dict = {\"key\": \"value\"}\n",
        "    print(my_dict[\"missing_key\"])\n",
        "except IndexError:\n",
        "    print(\"Index out of range.\")\n",
        "except KeyError:\n",
        "    print(\"Key not found.\")\n"
      ],
      "metadata": {
        "id": "4focpHCIAGq4"
      },
      "execution_count": null,
      "outputs": []
    },
    {
      "cell_type": "markdown",
      "source": [
        "20. How would you open a file and read its contents using a context manager in Python?"
      ],
      "metadata": {
        "id": "X2Gc7sylAKDO"
      }
    },
    {
      "cell_type": "code",
      "source": [
        "with open(\"file.txt\", \"r\") as file:\n",
        "    content = file.read()\n",
        "    print(content)\n"
      ],
      "metadata": {
        "id": "FN1WIPw9AOLI"
      },
      "execution_count": null,
      "outputs": []
    },
    {
      "cell_type": "markdown",
      "source": [
        "21. Write a Python program that reads a file and prints the number of occurrences of a specific word.\n"
      ],
      "metadata": {
        "id": "Ok8lSCxFAROH"
      }
    },
    {
      "cell_type": "code",
      "source": [
        "word = \"Python\"\n",
        "with open(\"file.txt\", \"r\") as file:\n",
        "    content = file.read()\n",
        "    print(content.lower().count(word.lower()))\n"
      ],
      "metadata": {
        "id": "xpY495oIAXMA"
      },
      "execution_count": null,
      "outputs": []
    },
    {
      "cell_type": "markdown",
      "source": [
        "22. How can you check if a file is empty before attempting to read its contents?\n"
      ],
      "metadata": {
        "id": "DafYUbY0Abcd"
      }
    },
    {
      "cell_type": "code",
      "source": [
        "import os\n",
        "\n",
        "if os.stat(\"file.txt\").st_size == 0:\n",
        "    print(\"The file is empty.\")\n",
        "else:\n",
        "    with open(\"file.txt\", \"r\") as file:\n",
        "        print(file.read())\n"
      ],
      "metadata": {
        "id": "nPN0fbmtAfNA"
      },
      "execution_count": null,
      "outputs": []
    },
    {
      "cell_type": "markdown",
      "source": [
        "23. Write a Python program that writes to a log file when an error occurs during file handling.\n"
      ],
      "metadata": {
        "id": "RZNNLop8Aj2S"
      }
    },
    {
      "cell_type": "code",
      "source": [
        "import logging\n",
        "\n",
        "logging.basicConfig(filename=\"error.log\", level=logging.ERROR)\n",
        "\n",
        "try:\n",
        "    with open(\"nonexistent.txt\", \"r\") as file:\n",
        "        content = file.read()\n",
        "except FileNotFoundError as e:\n",
        "    logging.error(\"File handling error: %s\", e)\n"
      ],
      "metadata": {
        "id": "r2DqGzrAApbA"
      },
      "execution_count": null,
      "outputs": []
    }
  ]
}