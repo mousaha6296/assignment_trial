{
  "nbformat": 4,
  "nbformat_minor": 0,
  "metadata": {
    "colab": {
      "provenance": []
    },
    "kernelspec": {
      "name": "python3",
      "display_name": "Python 3"
    },
    "language_info": {
      "name": "python"
    }
  },
  "cells": [
    {
      "cell_type": "code",
      "execution_count": null,
      "metadata": {
        "id": "ZLKvzLMCiamR"
      },
      "outputs": [],
      "source": []
    },
    {
      "cell_type": "markdown",
      "source": [
        "Q1.What are data structures, and why are they important?\n",
        "ANS: Data structures organize and store data in a way that facilitates faster and more efficient processing of data. For analytics, they help manage datasets for operations like sorting, searching, or analysis.\n",
        "\n",
        "Q2.Explain the difference between mutable and immutable data types with examples.\n",
        "ANS: Mutable: Can be changed after creation; for example, lists: my_list = [1, 2] can become [1, 2, 3].\n",
        "Immutable: Cannot be modified (for example, tuples: (1, 2) remains (1, 2)).\n",
        "\n",
        "Q3.What are the main differences between lists and tuples in Python?\n",
        "ANS: Lists are mutable and allow for append or removal operations, while tuples are immutable and preserve data integrity.\n",
        "\n",
        "Q4.Describes how dictionaries store data.\n",
        "Dictionaries store data as key-value pairs that allow fast access to data through unique keys. A phonebook is a classic example of this: names and phone numbers.\n",
        "\n",
        "Q5.Why might you use a set instead of a list in Python?\n",
        "ANS: Sets automatically eliminate duplicates and are faster to check for membership, e.g., finding unique elements in a dataset.\n",
        "\n",
        "Q6. What is a string in Python, and how is that different from a list?\n",
        "ANS: A string is an immutable sequence of characters, while a list is a mutable sequence of items. For example, you cannot change \"abc\" directly, but you can change a list [1, 2].\n",
        "\n",
        "Q7. How do tuples ensure data integrity in Python?\n",
        "ANS: Tuples are immutable, so the data that they contain can't be changed. That is why they are well suited to fixed data, such as coordinates.\n",
        "\n",
        "Q8.What is a hash table and how does it relate to dictionaries in Python?\n",
        "ANS: A hash table is the data structure utilized by dictionaries for fast lookups through hashing.\n",
        "\n",
        "Q9.can lists contain different data types in Python?\n",
        "ANS: Yes, lists can hold mixed types, e.g., [1, \"text\", 3.14], which is helpful in flexible data processing.\n",
        "\n",
        "Q10.Explain why strings are immutable in Python.\n",
        "ANS: For memory optimization and better performance, especially in caching operations and multi-threading:\n",
        "\n",
        "Q11.What advantages do dictionaries offer over lists for certain tasks?\n",
        "ANS: Dictionaries allow access by keys in constant time where lists need to search indices.\n",
        "\n",
        "Q12.Describe a scenario where using a tuple would be preferable over a list.\n",
        "ANS: Use the tuple to store immutable information, like a person's birth date, because changing it by mistake is difficult.\n",
        "\n",
        "Q13.How do sets handle duplicate values in a python?\n",
        "ANS: Sets automatically remove duplicates, so it will retain only unique items.\n",
        "\n",
        "Q14.How does the \"in\" keyword work differently for lists and dictionaries?\n",
        "ANS: Lists: Checks if a value exists.\n",
        "Dictionaries: Checks if a key exists.\n",
        "\n",
        "q15.Can you modify the elements of a tuple? Explain why or why not.\n",
        "No, because tuples are immutable. You would have to make a new tuple instead.\n",
        "\n",
        "Q16.What is a nested dictionary, and give an example of itd use case?\n",
        "ANS: A dictionary within another dictionary. Example: { \"person\": { \"name\": \"MOU\", \"age\": 24 } }. Useful for storing complex, hierarchical data.\n",
        "\n",
        "Q17.Describe the time complexity of accessing elements in a dictionary.\n",
        "ANS: Average time complexity is O(1), thanks to hashing.\n",
        "\n",
        "Q18.In what situations are lists preferred over dictionaries?\n",
        "ANS: When maintaining ordered, indexed data or when key-based lookups aren’t required.\n",
        "\n",
        "Q19.Why are dictionaries considered unordered, and how does that affect data retrieval?\n",
        "ANS: Traditionally, they did not preserve insertion order, so retrieval depended on keys, not order. (Note: Python 3.7+ preserves order.)\n",
        "\n",
        "Q20.Explain the difference between a list and a dictionary in terms of data retrival.\n",
        "ANS: Lists retrieve by index; dictionaries retrieve by key, which is faster.\n",
        "\n"
      ],
      "metadata": {
        "id": "jZezx1wyicDp"
      }
    },
    {
      "cell_type": "code",
      "source": [
        "#Write a code to create a string with your name and print it."
      ],
      "metadata": {
        "id": "Y6zl_Cc_LZ8e"
      },
      "execution_count": 5,
      "outputs": []
    },
    {
      "cell_type": "code",
      "source": [
        "name = \"Mou\"\n",
        "(\"My name is:\", name)\n",
        "\n"
      ],
      "metadata": {
        "colab": {
          "base_uri": "https://localhost:8080/"
        },
        "id": "Xk32yqSFMxNn",
        "outputId": "c5015799-10d8-445a-8148-4cfb424bf3fb"
      },
      "execution_count": 16,
      "outputs": [
        {
          "output_type": "execute_result",
          "data": {
            "text/plain": [
              "('My name is:', 'Mou')"
            ]
          },
          "metadata": {},
          "execution_count": 16
        }
      ]
    },
    {
      "cell_type": "code",
      "source": [
        "#Write a code to find the length of the string \"Hello World\""
      ],
      "metadata": {
        "id": "4FwHahK0OC6U"
      },
      "execution_count": null,
      "outputs": []
    },
    {
      "cell_type": "code",
      "source": [
        "text = \"Hello World\"\n",
        "(\"The length of the string is:\", len(text))"
      ],
      "metadata": {
        "colab": {
          "base_uri": "https://localhost:8080/"
        },
        "id": "dOeF_Xg3OLKZ",
        "outputId": "57b6809b-1f06-4431-afe8-c17ae03d4059"
      },
      "execution_count": 18,
      "outputs": [
        {
          "output_type": "execute_result",
          "data": {
            "text/plain": [
              "('The length of the string is:', 11)"
            ]
          },
          "metadata": {},
          "execution_count": 18
        }
      ]
    },
    {
      "cell_type": "code",
      "source": [
        "#Write a code to slice the first 3 characters from the string \"Python Programming\""
      ],
      "metadata": {
        "id": "g6duDRD0Ofx9"
      },
      "execution_count": null,
      "outputs": []
    },
    {
      "cell_type": "code",
      "source": [
        "text = \"Python Programming\"\n",
        "(\"The first 3 characters are:\", text[:3])"
      ],
      "metadata": {
        "colab": {
          "base_uri": "https://localhost:8080/"
        },
        "id": "XWx3DWeCOxFT",
        "outputId": "3cbe32f7-faca-4fc2-9e41-22cd7204008d"
      },
      "execution_count": 19,
      "outputs": [
        {
          "output_type": "execute_result",
          "data": {
            "text/plain": [
              "('The first 3 characters are:', 'Pyt')"
            ]
          },
          "metadata": {},
          "execution_count": 19
        }
      ]
    },
    {
      "cell_type": "code",
      "source": [
        "#Write a code to convert the string \"hello\" to uppercase."
      ],
      "metadata": {
        "id": "_gw0kWsAO08q"
      },
      "execution_count": null,
      "outputs": []
    },
    {
      "cell_type": "code",
      "source": [
        "text = \"hello\"\n",
        "(\"Uppercase string:\", text.upper())"
      ],
      "metadata": {
        "colab": {
          "base_uri": "https://localhost:8080/"
        },
        "id": "a0_nbwamO_t8",
        "outputId": "9f3b5130-349c-437c-a6be-41a369a27e0b"
      },
      "execution_count": 20,
      "outputs": [
        {
          "output_type": "execute_result",
          "data": {
            "text/plain": [
              "('Uppercase string:', 'HELLO')"
            ]
          },
          "metadata": {},
          "execution_count": 20
        }
      ]
    },
    {
      "cell_type": "code",
      "source": [
        "#Write a code to replace the word \"apple\" with \"orange\" in the string \"I like apple\""
      ],
      "metadata": {
        "id": "w18ao0nVPVyQ"
      },
      "execution_count": null,
      "outputs": []
    },
    {
      "cell_type": "code",
      "source": [
        "text = \"I like apple\"\n",
        "(text.replace(\"apple\", \"orange\"))"
      ],
      "metadata": {
        "colab": {
          "base_uri": "https://localhost:8080/",
          "height": 36
        },
        "id": "e83k8lGZP76q",
        "outputId": "36cb45ce-8710-479f-f7f1-e754c3fd774c"
      },
      "execution_count": 21,
      "outputs": [
        {
          "output_type": "execute_result",
          "data": {
            "text/plain": [
              "'I like orange'"
            ],
            "application/vnd.google.colaboratory.intrinsic+json": {
              "type": "string"
            }
          },
          "metadata": {},
          "execution_count": 21
        }
      ]
    },
    {
      "cell_type": "code",
      "source": [
        "#Write a code to create a list with numbers 1 to 5 and print it."
      ],
      "metadata": {
        "id": "KLRQ86jkQGZe"
      },
      "execution_count": null,
      "outputs": []
    },
    {
      "cell_type": "code",
      "source": [
        "numbers = [1, 2, 3, 4, 5]\n",
        "(numbers)"
      ],
      "metadata": {
        "colab": {
          "base_uri": "https://localhost:8080/"
        },
        "id": "9SpDG31jQN7b",
        "outputId": "d087513c-1e2f-403c-886b-78f7a46131db"
      },
      "execution_count": 22,
      "outputs": [
        {
          "output_type": "execute_result",
          "data": {
            "text/plain": [
              "[1, 2, 3, 4, 5]"
            ]
          },
          "metadata": {},
          "execution_count": 22
        }
      ]
    },
    {
      "cell_type": "code",
      "source": [
        "#Write a code to append the number 10 to the list [1, 2, 3, 4]."
      ],
      "metadata": {
        "id": "y1v78NpTQWV-"
      },
      "execution_count": null,
      "outputs": []
    },
    {
      "cell_type": "code",
      "source": [
        "numbers = [1, 2, 3, 4]\n",
        "numbers.append(6)\n",
        "(numbers)"
      ],
      "metadata": {
        "colab": {
          "base_uri": "https://localhost:8080/"
        },
        "id": "VGfrKGlXQgZK",
        "outputId": "ecc19e11-7c3e-48bb-96eb-a252db0a24e0"
      },
      "execution_count": 23,
      "outputs": [
        {
          "output_type": "execute_result",
          "data": {
            "text/plain": [
              "[1, 2, 3, 4, 6]"
            ]
          },
          "metadata": {},
          "execution_count": 23
        }
      ]
    },
    {
      "cell_type": "code",
      "source": [
        "#Write a code to remove the number 3 from the list [1, 2, 3, 4, 5].\n"
      ],
      "metadata": {
        "id": "EkngGu2MQta4"
      },
      "execution_count": null,
      "outputs": []
    },
    {
      "cell_type": "code",
      "source": [
        "numbers = [1, 2, 3, 4, 5]\n",
        "numbers.remove(3)\n",
        "(numbers)"
      ],
      "metadata": {
        "colab": {
          "base_uri": "https://localhost:8080/"
        },
        "id": "sQaPtNJZQ1pi",
        "outputId": "8ed09f63-0c7b-4a89-e607-38a2c4d96330"
      },
      "execution_count": 26,
      "outputs": [
        {
          "output_type": "execute_result",
          "data": {
            "text/plain": [
              "[1, 2, 4, 5]"
            ]
          },
          "metadata": {},
          "execution_count": 26
        }
      ]
    },
    {
      "cell_type": "code",
      "source": [
        "#Write a code to access the second element in the list ['a', 'b', 'c', 'd']"
      ],
      "metadata": {
        "id": "J-PQGyVuRUb2"
      },
      "execution_count": null,
      "outputs": []
    },
    {
      "cell_type": "code",
      "source": [
        "letters = ['a', 'b', 'c', 'd']\n",
        "(letters[1])"
      ],
      "metadata": {
        "colab": {
          "base_uri": "https://localhost:8080/",
          "height": 36
        },
        "id": "zKM_hJRHRd_m",
        "outputId": "067c2cd8-cb68-435b-e617-35c5dca8ea26"
      },
      "execution_count": 27,
      "outputs": [
        {
          "output_type": "execute_result",
          "data": {
            "text/plain": [
              "'b'"
            ],
            "application/vnd.google.colaboratory.intrinsic+json": {
              "type": "string"
            }
          },
          "metadata": {},
          "execution_count": 27
        }
      ]
    },
    {
      "cell_type": "code",
      "source": [
        "#Write a code to reverse the list [10, 20, 30, 40, 50]."
      ],
      "metadata": {
        "id": "vbP-wtGwRtMs"
      },
      "execution_count": null,
      "outputs": []
    },
    {
      "cell_type": "code",
      "source": [
        "numbers = [10, 20, 30, 40, 50]\n",
        "numbers.reverse()\n",
        "(numbers)"
      ],
      "metadata": {
        "colab": {
          "base_uri": "https://localhost:8080/"
        },
        "id": "hdldA8paRvj_",
        "outputId": "2e2f10a5-7d8c-4cdc-e50d-bcd6ab89fd4e"
      },
      "execution_count": 28,
      "outputs": [
        {
          "output_type": "execute_result",
          "data": {
            "text/plain": [
              "[50, 40, 30, 20, 10]"
            ]
          },
          "metadata": {},
          "execution_count": 28
        }
      ]
    },
    {
      "cell_type": "code",
      "source": [
        "#Write a code to create a tuple with the elements 10, 20, 30 and print it.."
      ],
      "metadata": {
        "id": "vsKfjikkR8GY"
      },
      "execution_count": null,
      "outputs": []
    },
    {
      "cell_type": "code",
      "source": [
        "my_tuple = (10, 20, 30)\n",
        "(my_tuple)"
      ],
      "metadata": {
        "colab": {
          "base_uri": "https://localhost:8080/"
        },
        "id": "uOiIWypGSB4F",
        "outputId": "2d6ff02f-6249-4813-fd96-8bffd94f0115"
      },
      "execution_count": 29,
      "outputs": [
        {
          "output_type": "execute_result",
          "data": {
            "text/plain": [
              "(10, 20, 30)"
            ]
          },
          "metadata": {},
          "execution_count": 29
        }
      ]
    },
    {
      "cell_type": "code",
      "source": [
        "#Write a code to access the first element of the tuple ('apple', 'banana', 'cherry')."
      ],
      "metadata": {
        "id": "4ZDZR3hoShqr"
      },
      "execution_count": null,
      "outputs": []
    },
    {
      "cell_type": "code",
      "source": [
        "fruits = ('apple', 'banana', 'cherry')\n",
        "(fruits[0])"
      ],
      "metadata": {
        "colab": {
          "base_uri": "https://localhost:8080/",
          "height": 36
        },
        "id": "JMvWHsFLSoha",
        "outputId": "41b8fcb5-d1cf-4806-ac4f-cfdb5e2cde89"
      },
      "execution_count": 30,
      "outputs": [
        {
          "output_type": "execute_result",
          "data": {
            "text/plain": [
              "'apple'"
            ],
            "application/vnd.google.colaboratory.intrinsic+json": {
              "type": "string"
            }
          },
          "metadata": {},
          "execution_count": 30
        }
      ]
    },
    {
      "cell_type": "code",
      "source": [
        "#Write a code to count how many times the number 2 appears in the tuple (1, 2, 3, 2, 4, 2)."
      ],
      "metadata": {
        "id": "hP3xEqYWS6tD"
      },
      "execution_count": null,
      "outputs": []
    },
    {
      "cell_type": "code",
      "source": [
        "my_tuple = (1, 2, 3, 2, 4, 2)\n",
        "(my_tuple.count(2))"
      ],
      "metadata": {
        "colab": {
          "base_uri": "https://localhost:8080/"
        },
        "id": "Yhtt-d_tTKvV",
        "outputId": "67a102cc-124f-41fc-af28-9669d1d1af98"
      },
      "execution_count": 31,
      "outputs": [
        {
          "output_type": "execute_result",
          "data": {
            "text/plain": [
              "3"
            ]
          },
          "metadata": {},
          "execution_count": 31
        }
      ]
    },
    {
      "cell_type": "code",
      "source": [
        "# Write a code to find the index of the element \"cat\" in the tuple ('dog', 'cat', 'rabbit')."
      ],
      "metadata": {
        "id": "BTEvZykETTS0"
      },
      "execution_count": null,
      "outputs": []
    },
    {
      "cell_type": "code",
      "source": [
        "animals = ('dog', 'cat', 'rabbit')\n",
        "(animals.index(\"cat\"))"
      ],
      "metadata": {
        "colab": {
          "base_uri": "https://localhost:8080/"
        },
        "id": "_BvetKggTdwa",
        "outputId": "ca284c0d-856c-4a54-9120-c4992503b76a"
      },
      "execution_count": 32,
      "outputs": [
        {
          "output_type": "execute_result",
          "data": {
            "text/plain": [
              "1"
            ]
          },
          "metadata": {},
          "execution_count": 32
        }
      ]
    },
    {
      "cell_type": "code",
      "source": [
        "#Write a code to check if the element \"banana\" is in the tuple ('apple', 'orange', 'banana')."
      ],
      "metadata": {
        "id": "X6v2y14-Tpwb"
      },
      "execution_count": null,
      "outputs": []
    },
    {
      "cell_type": "code",
      "source": [
        "fruits = ('apple', 'orange', 'banana')\n",
        "(\"banana\" in fruits)\n"
      ],
      "metadata": {
        "colab": {
          "base_uri": "https://localhost:8080/"
        },
        "id": "JF7l3BhcTx06",
        "outputId": "616e1a8c-9d2b-4e0c-ac71-253b7f8fbdeb"
      },
      "execution_count": 33,
      "outputs": [
        {
          "output_type": "execute_result",
          "data": {
            "text/plain": [
              "True"
            ]
          },
          "metadata": {},
          "execution_count": 33
        }
      ]
    },
    {
      "cell_type": "code",
      "source": [
        "#Write a code to create a set with the elements 1, 2, 3, 4, 5 and print it."
      ],
      "metadata": {
        "id": "AuCt3UFTUDal"
      },
      "execution_count": null,
      "outputs": []
    },
    {
      "cell_type": "code",
      "source": [
        "my_set = {1, 2, 3, 4, 5}\n",
        "(my_set)"
      ],
      "metadata": {
        "colab": {
          "base_uri": "https://localhost:8080/"
        },
        "id": "jI5WU8WJUJ6R",
        "outputId": "6eb78228-b518-4599-a9db-49bbe7864543"
      },
      "execution_count": 34,
      "outputs": [
        {
          "output_type": "execute_result",
          "data": {
            "text/plain": [
              "{1, 2, 3, 4, 5}"
            ]
          },
          "metadata": {},
          "execution_count": 34
        }
      ]
    },
    {
      "cell_type": "markdown",
      "source": [],
      "metadata": {
        "id": "IKsG31M-UkCx"
      }
    },
    {
      "cell_type": "code",
      "source": [
        "#Write a code to add the element 6 to the set {1, 2, 3, 4}"
      ],
      "metadata": {
        "id": "keBrRdqTUZ1w"
      },
      "execution_count": null,
      "outputs": []
    },
    {
      "cell_type": "code",
      "source": [
        "my_set = {1, 2, 3, 4}\n",
        "my_set.add(6)\n",
        "(my_set)"
      ],
      "metadata": {
        "colab": {
          "base_uri": "https://localhost:8080/"
        },
        "id": "1uT22uEHUl_P",
        "outputId": "b5502155-3260-47d9-a146-30710d34aba3"
      },
      "execution_count": 35,
      "outputs": [
        {
          "output_type": "execute_result",
          "data": {
            "text/plain": [
              "{1, 2, 3, 4, 6}"
            ]
          },
          "metadata": {},
          "execution_count": 35
        }
      ]
    },
    {
      "cell_type": "code",
      "source": [
        "# Write a code to create a tuple with the elements 10, 20, 30 and print it."
      ],
      "metadata": {
        "id": "TloqziKvXL-i"
      },
      "execution_count": null,
      "outputs": []
    },
    {
      "cell_type": "code",
      "source": [
        "my_tuple = (10, 20, 30)\n",
        "(my_tuple)\n"
      ],
      "metadata": {
        "colab": {
          "base_uri": "https://localhost:8080/"
        },
        "id": "e3gqwgrJXODF",
        "outputId": "e9406131-a4f4-44e4-c7da-c6f416520f69"
      },
      "execution_count": 36,
      "outputs": [
        {
          "output_type": "execute_result",
          "data": {
            "text/plain": [
              "(10, 20, 30)"
            ]
          },
          "metadata": {},
          "execution_count": 36
        }
      ]
    },
    {
      "cell_type": "code",
      "source": [
        "#Write a code to count how many times the number 2 appears in the tuple (1, 2, 3, 2, 4, 2)"
      ],
      "metadata": {
        "id": "KQsYKMaDXaCu"
      },
      "execution_count": null,
      "outputs": []
    },
    {
      "cell_type": "code",
      "source": [
        "numbers = (1, 2, 3, 2, 4, 2)\n",
        "count_of_two = numbers.count(2)\n",
        "(count_of_two)"
      ],
      "metadata": {
        "colab": {
          "base_uri": "https://localhost:8080/"
        },
        "id": "SUOTMS6OX1lY",
        "outputId": "4eada793-3c9c-4ef7-fb9a-744f3c41d07f"
      },
      "execution_count": 38,
      "outputs": [
        {
          "output_type": "execute_result",
          "data": {
            "text/plain": [
              "3"
            ]
          },
          "metadata": {},
          "execution_count": 38
        }
      ]
    }
  ]
}